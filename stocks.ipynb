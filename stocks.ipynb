{
 "cells": [
  {
   "cell_type": "markdown",
   "metadata": {},
   "source": [
    "# Stocks\n",
    "This notebook shows how to treat the stock prices and make some simple analyses of financial time series."
   ]
  },
  {
   "cell_type": "markdown",
   "metadata": {},
   "source": [
    "## How to read and handle a csv file\n",
    "Here we open a csv (comma separated values) file containing the stock prices (in this case, daily close prices)."
   ]
  },
  {
   "cell_type": "code",
   "execution_count": null,
   "metadata": {},
   "outputs": [],
   "source": [
    "import pandas as pd\n",
    "filename = '' # add here the name of your file\n",
    "prices = pd.read_csv(filename, index_col=0, parse_dates=[0])\n",
    "# index_col=0 to define the first column as the index; parse_dates=[0] to read the first column as a DateTime object\n",
    "prices.index = pd.to_datetime(prices.index) # to be sure that the index is in the pandas DateTime format\n",
    "print(prices)"
   ]
  },
  {
   "cell_type": "markdown",
   "metadata": {},
   "source": [
    "## Plot stock daily prices between a certain time range\n",
    "Define the time range and the stock we want to show, and plot the corresponding close prices."
   ]
  },
  {
   "cell_type": "code",
   "execution_count": null,
   "metadata": {},
   "outputs": [],
   "source": [
    "stock = 'AAPL'\n",
    "start_month = '2021-01'\n",
    "end_month = '2021-05'\n",
    "prices_toPlot = prices[[stock]][start_month:end_month]\n",
    "prices_toPlot.plot()\n",
    "pl.xlabel('Time', fontsize=14)\n",
    "pl.ylabel('Price (USD)', fontsize=14)\n",
    "pl.title(stock + ', close price', fontsize=14)"
   ]
  },
  {
   "cell_type": "markdown",
   "metadata": {},
   "source": [
    "## Daily returns\n",
    "Calculate daily returns and their statistics. Daily returns are percentage changes between consecutive prices. For example, if yesterday's price was 150$ and today's price is 152$, then the daily return is (152-150)/150 = 0.013, i.e. 1.3%"
   ]
  },
  {
   "cell_type": "code",
   "execution_count": null,
   "metadata": {},
   "outputs": [],
   "source": [
    "rets = prices.pct_change()\n",
    "print('The mean daily returns are:')\n",
    "print(rets.mean())\n",
    "print('The standard deviation of the daily returns are:')\n",
    "print(rets.std())\n",
    "# standard deviations of daily returns show the level of fluctuations of the stocks;\n",
    "# higher standard deviation implies higher stock volatility (see \"Calculate stock volatility\")"
   ]
  },
  {
   "cell_type": "markdown",
   "metadata": {},
   "source": [
    "## Filtering and grouping\n",
    "We can filter the returns dataframe based on some condition (for example, the magnitude of the returns)."
   ]
  },
  {
   "cell_type": "code",
   "execution_count": null,
   "metadata": {},
   "outputs": [],
   "source": [
    "return_threshold = 2 # we will select only the days with daily return larger than 2%\n",
    "stock = 'AAPL'\n",
    "rets_percent = 100*rets #  transform returns into percent returns to increase readability\n",
    "rets_percent_large = rets_percent[[stock]][rets_percent > return_threshold] # in the square brackets, we set the condition\n",
    "rets_percent_small = rets_percent[[stock]][rets_percent < -return_threshold]\n",
    "rets_percent_large"
   ]
  },
  {
   "cell_type": "markdown",
   "metadata": {},
   "source": [
    "## Calculate stock volatility\n",
    "From the stock prices and returns we can calculate the volatility, i.e. the average fluctuations of the stock in the last n days. The volatility represents the risk associated to the financial object: the higher the volatility, the riskier the security. In mathematical terms, it is nothing but the weighted variance of the stock returns multiplied by a factor, as shown in the function below."
   ]
  },
  {
   "cell_type": "code",
   "execution_count": null,
   "metadata": {},
   "outputs": [],
   "source": [
    "import numpy\n",
    "import datetime\n",
    "\n",
    "def volaCalc2(x, w): # x is your pandas dataframe showing the close-close returns and w is a vector of weights\n",
    "    # in this case, we calculate the volatility on 65 trading days, and we weight the last 5 days twice w.r.t. to the others:\n",
    "    w = np.append(np.repeat(1, 60),np.repeat(2, 5)) \n",
    "    ttt=datetime.datetime.now() # check time\n",
    "    \n",
    "    n_col = x.shape[1]\n",
    "    n_row = x.shape[0]\n",
    "    n_w = len(w)\n",
    "    s_w = sum(w)\n",
    "    tmp_mean = np.tile(np.nan, (n_row, n_col))\n",
    "    vola = np.tile(np.nan, (n_row, n_col))\n",
    "    x_array = x.values # transform pandas into array\n",
    "    \n",
    "    for j in range(0,n_col): # loop on columns\n",
    "        tmpcol=x_array[:,j];\n",
    "        for i in range(0,n_row): # loop on rows\n",
    "            if i >= n_w:\n",
    "                tmp_mean[i,j] = sum((w*tmpcol[i+1-n_w:i+1]))/s_w\n",
    "                vola[i,j] = sum(w*(tmpcol[i+1-n_w:i+1]-tmp_mean[i,j])*(tmpcol[i+1-n_w:i+1]-tmp_mean[i,j]))/(s_w-1) #weighted variance\n",
    "                \n",
    "    vola = pd.DataFrame(vola, index = x.index, columns=x.columns)\n",
    "    print(' total time: '+str((datetime.datetime.now() - ttt).seconds + (datetime.datetime.now() - ttt).microseconds/1E6) + ' s')        \n",
    "    return(vola)\n",
    "\n",
    "weights = np.append(np.repeat(1, 60),np.repeat(2, 5))\n",
    "volatility_daily = np.sqrt(volaCalc2(rets, weights)) # compute the square root of the variance\n",
    "# this is the daily volatility; usually, though, the volatility is presented in annualized terms \n",
    "# assuming there are 252 trading days in a year, we therefore multiply the daily volatility by the square root of 252:\n",
    "volatility = np.sqrt(252)*volatility"
   ]
  }
 ],
 "metadata": {
  "kernelspec": {
   "display_name": "Python 3",
   "language": "python",
   "name": "python3"
  },
  "language_info": {
   "codemirror_mode": {
    "name": "ipython",
    "version": 3
   },
   "file_extension": ".py",
   "mimetype": "text/x-python",
   "name": "python",
   "nbconvert_exporter": "python",
   "pygments_lexer": "ipython3",
   "version": "3.7.4"
  }
 },
 "nbformat": 4,
 "nbformat_minor": 2
}
